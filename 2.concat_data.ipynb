{
 "cells": [
  {
   "cell_type": "code",
   "execution_count": 3,
   "metadata": {},
   "outputs": [],
   "source": [
    "import os\n",
    "import json\n",
    "from pathlib import Path"
   ]
  },
  {
   "cell_type": "markdown",
   "metadata": {},
   "source": [
    "# Combine data with image and add"
   ]
  },
  {
   "cell_type": "code",
   "execution_count": 9,
   "metadata": {},
   "outputs": [
    {
     "name": "stdout",
     "output_type": "stream",
     "text": [
      "Penggabungan selesai!\n"
     ]
    }
   ],
   "source": [
    "import os\n",
    "import json\n",
    "from collections import defaultdict\n",
    "\n",
    "# Path asal dan tujuan\n",
    "base_path = \"dataset\"\n",
    "path = os.path.join(base_path, \"./\")\n",
    "\n",
    "# Pastikan folder output ada\n",
    "os.makedirs(path, exist_ok=True)\n",
    "\n",
    "# Fungsi untuk membaca JSON\n",
    "def load_json(file_path):\n",
    "    if os.path.exists(file_path):\n",
    "        with open(file_path, \"r\", encoding=\"utf-8\") as f:\n",
    "            return json.load(f)\n",
    "    return []\n",
    "\n",
    "# Load data dari masing-masing sumber\n",
    "data_main = load_json(os.path.join(path, 'data-main.json'))\n",
    "data_add = load_json(os.path.join(path, 'data-add.json'))\n",
    "data_image = load_json(os.path.join(path, 'data-image.json'))\n",
    "\n",
    "# Dictionary untuk menggabungkan data berdasarkan mal_id\n",
    "combined_data = defaultdict(dict)\n",
    "\n",
    "# Gabungkan data dari data-main\n",
    "for entry in data_main:\n",
    "    mal_id = entry[\"mal_id\"]\n",
    "    combined_data[mal_id].update(entry)\n",
    "\n",
    "# Gabungkan data dari data-add\n",
    "for entry in data_add:\n",
    "    mal_id = entry[\"mal_id\"]\n",
    "    combined_data[mal_id].update(entry)\n",
    "\n",
    "# Gabungkan data dari data-image\n",
    "for entry in data_image:\n",
    "    mal_id = entry[\"mal_id\"]\n",
    "    combined_data[mal_id].update(entry)\n",
    "\n",
    "# Konversi dictionary ke list\n",
    "final_data = list(combined_data.values())\n",
    "\n",
    "# Simpan ke folder output\n",
    "output_file = os.path.join(path, 'data.json')\n",
    "with open(output_file, \"w\", encoding=\"utf-8\") as f:\n",
    "    json.dump(final_data, f, indent=4, ensure_ascii=False)\n",
    "\n",
    "print(\"Penggabungan selesai!\")"
   ]
  },
  {
   "cell_type": "code",
   "execution_count": null,
   "metadata": {},
   "outputs": [],
   "source": [
    "# import os\n",
    "# import json\n",
    "# from collections import defaultdict\n",
    "\n",
    "# # Path asal dan tujuan\n",
    "# base_path = \"dataset\"\n",
    "# data_main_path = os.path.join(base_path, \"data-main\")\n",
    "# data_add_path = os.path.join(base_path, \"data-add\")\n",
    "# data_image_path = os.path.join(base_path, \"data-image\")\n",
    "# output_path = os.path.join(base_path, \"data\")\n",
    "\n",
    "# # Pastikan folder output ada\n",
    "# os.makedirs(output_path, exist_ok=True)\n",
    "\n",
    "# # Fungsi untuk membaca JSON\n",
    "# def load_json(file_path):\n",
    "#     if os.path.exists(file_path):\n",
    "#         with open(file_path, \"r\", encoding=\"utf-8\") as f:\n",
    "#             return json.load(f)\n",
    "#     return []\n",
    "\n",
    "# # Loop setiap file\n",
    "# for i in range(0, 28050, 50):  # Sesuai jumlah file\n",
    "#     filename = f\"data_{i}.json\"\n",
    "\n",
    "#     # Load data dari masing-masing sumber\n",
    "#     data_main = load_json(os.path.join(data_main_path, filename))\n",
    "#     data_add = load_json(os.path.join(data_add_path, filename))\n",
    "#     data_image = load_json(os.path.join(data_image_path, filename))\n",
    "\n",
    "#     # Dictionary untuk menggabungkan data berdasarkan mal_id\n",
    "#     combined_data = defaultdict(dict)\n",
    "\n",
    "#     # Gabungkan data dari data-main\n",
    "#     for entry in data_main:\n",
    "#         mal_id = entry[\"mal_id\"]\n",
    "#         combined_data[mal_id].update(entry)\n",
    "\n",
    "#     # Gabungkan data dari data-add\n",
    "#     for entry in data_add:\n",
    "#         mal_id = entry[\"mal_id\"]\n",
    "#         combined_data[mal_id].update(entry)\n",
    "\n",
    "#     # Gabungkan data dari data-image\n",
    "#     for entry in data_image:\n",
    "#         mal_id = entry[\"mal_id\"]\n",
    "#         combined_data[mal_id].update(entry)\n",
    "\n",
    "#     # Konversi dictionary ke list\n",
    "#     final_data = list(combined_data.values())\n",
    "\n",
    "#     # Simpan ke folder output\n",
    "#     output_file = os.path.join(output_path, filename)\n",
    "#     with open(output_file, \"w\", encoding=\"utf-8\") as f:\n",
    "#         json.dump(final_data, f, indent=4, ensure_ascii=False)\n",
    "\n",
    "# print(\"Penggabungan selesai!\")"
   ]
  },
  {
   "cell_type": "markdown",
   "metadata": {},
   "source": [
    "# Concat All Data"
   ]
  },
  {
   "cell_type": "code",
   "execution_count": 6,
   "metadata": {},
   "outputs": [
    {
     "name": "stdout",
     "output_type": "stream",
     "text": [
      "Merged 560 files into dataset\\data-main.json\n"
     ]
    }
   ],
   "source": [
    "# Tentukan folder data dan file output\n",
    "data_folder = Path(\"./dataset/data-main\")\n",
    "output_file = Path(\"./dataset/data-main.json\")\n",
    "\n",
    "def merge_json_files():\n",
    "    try:\n",
    "        files = [f for f in os.listdir(data_folder) if f.endswith('.json')]\n",
    "        merged_data = []\n",
    "        \n",
    "        for file in files:\n",
    "            file_path = data_folder / file\n",
    "            with open(file_path, 'r', encoding='utf-8') as f:\n",
    "                json_data = json.load(f)\n",
    "                merged_data.extend(json_data)\n",
    "        \n",
    "        with open(output_file, 'w', encoding='utf-8') as f:\n",
    "            json.dump(merged_data, f, indent=2, ensure_ascii=False)\n",
    "        \n",
    "        print(f\"Merged {len(files)} files into {output_file}\")\n",
    "    except Exception as e:\n",
    "        print(\"Error merging JSON files:\", e)\n",
    "\n",
    "# Jalankan fungsi\n",
    "merge_json_files()"
   ]
  }
 ],
 "metadata": {
  "kernelspec": {
   "display_name": "base",
   "language": "python",
   "name": "python3"
  },
  "language_info": {
   "codemirror_mode": {
    "name": "ipython",
    "version": 3
   },
   "file_extension": ".py",
   "mimetype": "text/x-python",
   "name": "python",
   "nbconvert_exporter": "python",
   "pygments_lexer": "ipython3",
   "version": "3.9.13"
  }
 },
 "nbformat": 4,
 "nbformat_minor": 2
}
